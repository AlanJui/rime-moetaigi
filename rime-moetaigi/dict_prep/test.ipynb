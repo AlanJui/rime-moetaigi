{
 "cells": [
  {
   "cell_type": "code",
   "execution_count": 1,
   "id": "6372c4a5-790f-4534-bc25-28cb9b767d01",
   "metadata": {},
   "outputs": [],
   "source": [
    "import pandas as pd\n",
    "import numpy as np\n",
    "import sys\n",
    "# sys.path.append('source_data')"
   ]
  },
  {
   "cell_type": "code",
   "execution_count": 2,
   "id": "38ce4c2c-e103-4634-a983-bd55a585416a",
   "metadata": {},
   "outputs": [],
   "source": [
    "from moetaigi import numberize_tone, make_headers"
   ]
  },
  {
   "cell_type": "code",
   "execution_count": null,
   "id": "03870059-85e2-4f85-a4a1-87c5c6235370",
   "metadata": {},
   "outputs": [],
   "source": []
  },
  {
   "cell_type": "code",
   "execution_count": 20,
   "id": "7f326c7a-1b3d-43ac-8889-df71c58bd544",
   "metadata": {},
   "outputs": [
    {
     "data": {
      "text/plain": [
       "''"
      ]
     },
     "execution_count": 20,
     "metadata": {},
     "output_type": "execute_result"
    }
   ],
   "source": [
    "numberize_tone('')"
   ]
  },
  {
   "cell_type": "code",
   "execution_count": null,
   "id": "abe92514-c245-4ae7-a7a5-214e07c982ca",
   "metadata": {},
   "outputs": [],
   "source": []
  },
  {
   "cell_type": "code",
   "execution_count": 5,
   "id": "0e0f59b5-e04c-4f8d-99a7-2f19c78e04d0",
   "metadata": {},
   "outputs": [],
   "source": [
    "a = pd.read_csv('source_data/詞目總檔.csv')"
   ]
  },
  {
   "cell_type": "code",
   "execution_count": 6,
   "id": "c73cc382-dfbc-4678-9b61-c73299bc20dc",
   "metadata": {},
   "outputs": [
    {
     "data": {
      "text/html": [
       "<div>\n",
       "<style scoped>\n",
       "    .dataframe tbody tr th:only-of-type {\n",
       "        vertical-align: middle;\n",
       "    }\n",
       "\n",
       "    .dataframe tbody tr th {\n",
       "        vertical-align: top;\n",
       "    }\n",
       "\n",
       "    .dataframe thead th {\n",
       "        text-align: right;\n",
       "    }\n",
       "</style>\n",
       "<table border=\"1\" class=\"dataframe\">\n",
       "  <thead>\n",
       "    <tr style=\"text-align: right;\">\n",
       "      <th></th>\n",
       "      <th>主編碼</th>\n",
       "      <th>屬性</th>\n",
       "      <th>詞目</th>\n",
       "      <th>音讀</th>\n",
       "      <th>文白屬性</th>\n",
       "      <th>部首</th>\n",
       "    </tr>\n",
       "  </thead>\n",
       "  <tbody>\n",
       "    <tr>\n",
       "      <th>0</th>\n",
       "      <td>1</td>\n",
       "      <td>1</td>\n",
       "      <td>一</td>\n",
       "      <td>tsi̍t</td>\n",
       "      <td>4</td>\n",
       "      <td>一</td>\n",
       "    </tr>\n",
       "    <tr>\n",
       "      <th>1</th>\n",
       "      <td>2</td>\n",
       "      <td>1</td>\n",
       "      <td>一</td>\n",
       "      <td>it</td>\n",
       "      <td>0</td>\n",
       "      <td>一</td>\n",
       "    </tr>\n",
       "    <tr>\n",
       "      <th>2</th>\n",
       "      <td>3</td>\n",
       "      <td>1</td>\n",
       "      <td>一刀兩斷</td>\n",
       "      <td>it-to-lióng-tuān</td>\n",
       "      <td>0</td>\n",
       "      <td>NaN</td>\n",
       "    </tr>\n",
       "    <tr>\n",
       "      <th>3</th>\n",
       "      <td>4</td>\n",
       "      <td>1</td>\n",
       "      <td>一下</td>\n",
       "      <td>tsi̍t-ē</td>\n",
       "      <td>0</td>\n",
       "      <td>NaN</td>\n",
       "    </tr>\n",
       "    <tr>\n",
       "      <th>4</th>\n",
       "      <td>6</td>\n",
       "      <td>1</td>\n",
       "      <td>一月日</td>\n",
       "      <td>tsi̍t gue̍h-ji̍t/tsi̍t ge̍h-li̍t</td>\n",
       "      <td>0</td>\n",
       "      <td>NaN</td>\n",
       "    </tr>\n",
       "    <tr>\n",
       "      <th>5</th>\n",
       "      <td>7</td>\n",
       "      <td>1</td>\n",
       "      <td>一日到暗</td>\n",
       "      <td>tsi̍t-ji̍t-kàu-àm/tsi̍t-li̍t-kàu-àm</td>\n",
       "      <td>0</td>\n",
       "      <td>NaN</td>\n",
       "    </tr>\n",
       "  </tbody>\n",
       "</table>\n",
       "</div>"
      ],
      "text/plain": [
       "   主編碼  屬性    詞目                                   音讀  文白屬性   部首\n",
       "0    1   1     一                                tsi̍t     4    一\n",
       "1    2   1     一                                   it     0    一\n",
       "2    3   1  一刀兩斷                     it-to-lióng-tuān     0  NaN\n",
       "3    4   1    一下                              tsi̍t-ē     0  NaN\n",
       "4    6   1   一月日     tsi̍t gue̍h-ji̍t/tsi̍t ge̍h-li̍t     0  NaN\n",
       "5    7   1  一日到暗  tsi̍t-ji̍t-kàu-àm/tsi̍t-li̍t-kàu-àm     0  NaN"
      ]
     },
     "execution_count": 6,
     "metadata": {},
     "output_type": "execute_result"
    }
   ],
   "source": [
    "a.loc[:5]"
   ]
  },
  {
   "cell_type": "code",
   "execution_count": 19,
   "id": "06342f10-6431-4ae4-af86-2c8a4ea10a37",
   "metadata": {},
   "outputs": [
    {
     "name": "stdout",
     "output_type": "stream",
     "text": [
      "True\n",
      "True\n",
      "True\n",
      "True\n",
      "True\n",
      "True\n",
      "True\n",
      "True\n",
      "True\n",
      "True\n",
      "True\n",
      "True\n",
      "True\n",
      "True\n",
      "True\n",
      "True\n",
      "True\n",
      "True\n"
     ]
    }
   ],
   "source": [
    "for idx, row in a.loc[1:18].iterrows():\n",
    "    print(type(row['音讀']) is str)"
   ]
  },
  {
   "cell_type": "code",
   "execution_count": null,
   "id": "8df1b9e3-7275-4732-b87d-7c4d8e50a87a",
   "metadata": {},
   "outputs": [],
   "source": []
  },
  {
   "cell_type": "code",
   "execution_count": null,
   "id": "55e5cad1-4051-4026-85ca-275beacc263b",
   "metadata": {},
   "outputs": [],
   "source": []
  }
 ],
 "metadata": {
  "kernelspec": {
   "display_name": "Python [conda env:.conda-jme]",
   "language": "python",
   "name": "conda-env-.conda-jme-py"
  },
  "language_info": {
   "codemirror_mode": {
    "name": "ipython",
    "version": 3
   },
   "file_extension": ".py",
   "mimetype": "text/x-python",
   "name": "python",
   "nbconvert_exporter": "python",
   "pygments_lexer": "ipython3",
   "version": "3.8.10"
  }
 },
 "nbformat": 4,
 "nbformat_minor": 5
}
