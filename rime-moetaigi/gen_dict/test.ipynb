{
 "cells": [
  {
   "cell_type": "code",
   "execution_count": 8,
   "id": "6372c4a5-790f-4534-bc25-28cb9b767d01",
   "metadata": {},
   "outputs": [],
   "source": [
    "with open('moetaigi-test.dict.yaml') as f, open('moetaigi-test-unspaced.dict.yaml', 'w') as g:\n",
    "\n",
    "    # Make headers in g\n",
    "    g.write('# Rime dictionary\\n')\n",
    "    g.write('# encoding: utf-8\\n')\n",
    "    g.write('#\\n')\n",
    "    g.write('# 不含空格的萌典 API 台語詞條，自動產生，供注音反查之用。\\n')\n",
    "    g.write('\\n')\n",
    "    g.write('---\\n')\n",
    "    g.write('name: moetaigi.unspaced\\n')\n",
    "    g.write('version: \"0.1\"\\n')\n",
    "    g.write('sort: by_weight\\n')\n",
    "    g.write('use_preset_vocabulary: false\\n')\n",
    "    g.write('...\\n')\n",
    "    \n",
    "    # Skip headers in f\n",
    "    for line in f:\n",
    "        if line == '...\\n':\n",
    "            break\n",
    "\n",
    "    # Dictionary\n",
    "    for line in f:\n",
    "        g.write(line.replace(' ', \"'\"))"
   ]
  },
  {
   "cell_type": "code",
   "execution_count": null,
   "id": "06c3612e-cbd2-4ef9-b0f6-248058d84262",
   "metadata": {},
   "outputs": [],
   "source": []
  },
  {
   "cell_type": "code",
   "execution_count": null,
   "id": "68d14b70-8005-4cd5-a5e2-f97321da40d7",
   "metadata": {},
   "outputs": [],
   "source": []
  },
  {
   "cell_type": "code",
   "execution_count": null,
   "id": "9a596d19-2ce8-4b0a-8632-3579ee571fae",
   "metadata": {},
   "outputs": [],
   "source": []
  },
  {
   "cell_type": "code",
   "execution_count": null,
   "id": "1e8d866f-a4af-477c-9826-6d30416fce3a",
   "metadata": {},
   "outputs": [],
   "source": []
  },
  {
   "cell_type": "code",
   "execution_count": null,
   "id": "cf0f366b-a990-4f39-ab05-607c92a08d5c",
   "metadata": {},
   "outputs": [],
   "source": []
  },
  {
   "cell_type": "code",
   "execution_count": null,
   "id": "6ff28662-81b5-4584-ac40-cc99cb91b38f",
   "metadata": {},
   "outputs": [],
   "source": []
  },
  {
   "cell_type": "code",
   "execution_count": null,
   "id": "d636a9d6-8f13-42c7-93bd-e5af08c634e5",
   "metadata": {},
   "outputs": [],
   "source": []
  },
  {
   "cell_type": "code",
   "execution_count": null,
   "id": "afd05a9f-c115-4bc8-b21b-0579033265df",
   "metadata": {},
   "outputs": [],
   "source": []
  },
  {
   "cell_type": "code",
   "execution_count": null,
   "id": "706f2594-cef3-44cd-9b49-ef7f7b283124",
   "metadata": {},
   "outputs": [],
   "source": []
  },
  {
   "cell_type": "code",
   "execution_count": null,
   "id": "3ad61075-1450-4429-979d-ace78da9d734",
   "metadata": {},
   "outputs": [],
   "source": []
  },
  {
   "cell_type": "code",
   "execution_count": null,
   "id": "0041b69a-f3cc-412d-9ab9-648fd45601cc",
   "metadata": {},
   "outputs": [],
   "source": []
  },
  {
   "cell_type": "code",
   "execution_count": null,
   "id": "496faeff-5bc5-4d9e-9e01-1072f2e930f1",
   "metadata": {},
   "outputs": [],
   "source": []
  },
  {
   "cell_type": "code",
   "execution_count": null,
   "id": "501d80dc-f640-4098-8617-2b13fd922d03",
   "metadata": {},
   "outputs": [],
   "source": []
  },
  {
   "cell_type": "code",
   "execution_count": null,
   "id": "5cfa51ae-eaa2-4d84-83e7-865f73b6bc31",
   "metadata": {},
   "outputs": [],
   "source": []
  },
  {
   "cell_type": "code",
   "execution_count": null,
   "id": "b5425c06-18e8-4bd6-920b-e587d3939e71",
   "metadata": {},
   "outputs": [],
   "source": []
  },
  {
   "cell_type": "code",
   "execution_count": null,
   "id": "99a351e6-e094-4d37-8db7-129d9f943d36",
   "metadata": {},
   "outputs": [],
   "source": []
  },
  {
   "cell_type": "code",
   "execution_count": null,
   "id": "db05ba01-ca02-413f-8786-ee99eb6c20fc",
   "metadata": {},
   "outputs": [],
   "source": []
  },
  {
   "cell_type": "code",
   "execution_count": null,
   "id": "d56ee65f-981f-4893-890d-a9887576073d",
   "metadata": {},
   "outputs": [],
   "source": []
  },
  {
   "cell_type": "code",
   "execution_count": null,
   "id": "c8816b43-05c2-43b9-b093-b31e82ef5790",
   "metadata": {},
   "outputs": [],
   "source": []
  },
  {
   "cell_type": "code",
   "execution_count": null,
   "id": "588f595b-59b8-41c9-9302-edcb17f3f3c6",
   "metadata": {},
   "outputs": [],
   "source": []
  },
  {
   "cell_type": "code",
   "execution_count": null,
   "id": "bb62f55c-7eaa-48e9-a38d-94ee51d0910b",
   "metadata": {},
   "outputs": [],
   "source": []
  }
 ],
 "metadata": {
  "kernelspec": {
   "display_name": "Python [conda env:.conda-jme]",
   "language": "python",
   "name": "conda-env-.conda-jme-py"
  },
  "language_info": {
   "codemirror_mode": {
    "name": "ipython",
    "version": 3
   },
   "file_extension": ".py",
   "mimetype": "text/x-python",
   "name": "python",
   "nbconvert_exporter": "python",
   "pygments_lexer": "ipython3",
   "version": "3.8.10"
  }
 },
 "nbformat": 4,
 "nbformat_minor": 5
}
