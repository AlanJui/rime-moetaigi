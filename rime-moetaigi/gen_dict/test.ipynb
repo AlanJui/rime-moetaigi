{
 "cells": [
  {
   "cell_type": "code",
   "execution_count": 26,
   "id": "6372c4a5-790f-4534-bc25-28cb9b767d01",
   "metadata": {},
   "outputs": [],
   "source": [
    "import pandas as pd\n",
    "import numpy as np\n",
    "import sys\n",
    "# sys.path.append('source_data')"
   ]
  },
  {
   "cell_type": "code",
   "execution_count": 27,
   "id": "00c3fb0d-14c0-4a88-be89-130486da4780",
   "metadata": {},
   "outputs": [],
   "source": [
    "# from gen_dict import numberize_tone"
   ]
  },
  {
   "cell_type": "code",
   "execution_count": 28,
   "id": "06c3612e-cbd2-4ef9-b0f6-248058d84262",
   "metadata": {},
   "outputs": [
    {
     "data": {
      "text/html": [
       "<div>\n",
       "<style scoped>\n",
       "    .dataframe tbody tr th:only-of-type {\n",
       "        vertical-align: middle;\n",
       "    }\n",
       "\n",
       "    .dataframe tbody tr th {\n",
       "        vertical-align: top;\n",
       "    }\n",
       "\n",
       "    .dataframe thead th {\n",
       "        text-align: right;\n",
       "    }\n",
       "</style>\n",
       "<table border=\"1\" class=\"dataframe\">\n",
       "  <thead>\n",
       "    <tr style=\"text-align: right;\">\n",
       "      <th></th>\n",
       "      <th>No.</th>\n",
       "      <th>Name</th>\n",
       "      <th>Pronunciation</th>\n",
       "      <th>New_Freq</th>\n",
       "    </tr>\n",
       "  </thead>\n",
       "  <tbody>\n",
       "    <tr>\n",
       "      <th>0</th>\n",
       "      <td>120</td>\n",
       "      <td>的</td>\n",
       "      <td>ê</td>\n",
       "      <td>184693</td>\n",
       "    </tr>\n",
       "    <tr>\n",
       "      <th>1</th>\n",
       "      <td>247</td>\n",
       "      <td>是</td>\n",
       "      <td>sī</td>\n",
       "      <td>103109</td>\n",
       "    </tr>\n",
       "    <tr>\n",
       "      <th>2</th>\n",
       "      <td>1</td>\n",
       "      <td>仔</td>\n",
       "      <td>á</td>\n",
       "      <td>90696</td>\n",
       "    </tr>\n",
       "    <tr>\n",
       "      <th>3</th>\n",
       "      <td>1278</td>\n",
       "      <td>伊</td>\n",
       "      <td>i</td>\n",
       "      <td>63255</td>\n",
       "    </tr>\n",
       "    <tr>\n",
       "      <th>4</th>\n",
       "      <td>7</td>\n",
       "      <td>無</td>\n",
       "      <td>bô</td>\n",
       "      <td>63119</td>\n",
       "    </tr>\n",
       "    <tr>\n",
       "      <th>...</th>\n",
       "      <td>...</td>\n",
       "      <td>...</td>\n",
       "      <td>...</td>\n",
       "      <td>...</td>\n",
       "    </tr>\n",
       "    <tr>\n",
       "      <th>5185</th>\n",
       "      <td>3939</td>\n",
       "      <td>疤</td>\n",
       "      <td>pa</td>\n",
       "      <td>50</td>\n",
       "    </tr>\n",
       "    <tr>\n",
       "      <th>5186</th>\n",
       "      <td>3940</td>\n",
       "      <td>疥</td>\n",
       "      <td>kè</td>\n",
       "      <td>50</td>\n",
       "    </tr>\n",
       "    <tr>\n",
       "      <th>5187</th>\n",
       "      <td>3941</td>\n",
       "      <td>疧</td>\n",
       "      <td>khî</td>\n",
       "      <td>50</td>\n",
       "    </tr>\n",
       "    <tr>\n",
       "      <th>5188</th>\n",
       "      <td>4193</td>\n",
       "      <td>荷</td>\n",
       "      <td>huê</td>\n",
       "      <td>50</td>\n",
       "    </tr>\n",
       "    <tr>\n",
       "      <th>5189</th>\n",
       "      <td>4818</td>\n",
       "      <td>黜</td>\n",
       "      <td>thut</td>\n",
       "      <td>50</td>\n",
       "    </tr>\n",
       "  </tbody>\n",
       "</table>\n",
       "<p>5190 rows × 4 columns</p>\n",
       "</div>"
      ],
      "text/plain": [
       "       No. Name Pronunciation  New_Freq\n",
       "0      120    的             ê    184693\n",
       "1      247    是            sī    103109\n",
       "2        1    仔             á     90696\n",
       "3     1278    伊             i     63255\n",
       "4        7    無            bô     63119\n",
       "...    ...  ...           ...       ...\n",
       "5185  3939    疤            pa        50\n",
       "5186  3940    疥            kè        50\n",
       "5187  3941    疧           khî        50\n",
       "5188  4193    荷           huê        50\n",
       "5189  4818    黜          thut        50\n",
       "\n",
       "[5190 rows x 4 columns]"
      ]
     },
     "execution_count": 28,
     "metadata": {},
     "output_type": "execute_result"
    }
   ],
   "source": [
    "char_freq_file = 'char_freq_merged.txt'\n",
    "dict_raw_file = 'source_data/moetaigi-raw.dict.yaml'\n",
    "dict_target_file = 'moetaigi-new.dict.yaml'\n",
    "\n",
    "df_freq = pd.read_csv(char_freq_file, sep='\\t')\n",
    "df_freq_updated = df_freq.copy(deep=True)\n",
    "df_freq"
   ]
  },
  {
   "cell_type": "code",
   "execution_count": 40,
   "id": "a0f84025-1117-4bfe-8be7-75bd079f4d67",
   "metadata": {},
   "outputs": [],
   "source": [
    "def numberize_tone4charfreq(c):\n",
    "    # single syllable only!\n",
    "    # print(c)\n",
    "    if 'a̍' in c:\n",
    "        d = c.replace('a̍', 'a') + '8'\n",
    "    elif 'e̍' in c:\n",
    "        d = c.replace('e̍', 'e') + '8'\n",
    "    elif 'i̍' in c:\n",
    "        d = c.replace('i̍', 'i') + '8'\n",
    "    elif 'o̍' in c:\n",
    "        d = c.replace('o̍', 'o') + '8'\n",
    "    elif 'u̍' in c:\n",
    "        d = c.replace('u̍', 'u') + '8'\n",
    "    # elif 'n8' in c: non-existent\n",
    "    # elif 'm8' in c: non-existent\n",
    "    elif 'ā' in c:\n",
    "        d = c.replace('ā', 'a') + '7'\n",
    "    elif 'ē' in c:\n",
    "        d = c.replace('ē', 'e') + '7'\n",
    "    elif 'ī' in c:\n",
    "        d = c.replace('ī', 'i') + '7'\n",
    "    elif 'ō' in c:\n",
    "        d = c.replace('ō', 'o') + '7'\n",
    "    elif 'ū' in c:\n",
    "        d = c.replace('ū', 'u') + '7'\n",
    "    elif 'n̄' in c:\n",
    "        d = c.replace('n̄', 'n') + '7'\n",
    "    elif 'm̄' in c:\n",
    "        d = c.replace('m̄', 'm') + '7'\n",
    "    elif b'\\xcc\\x82'.decode() in c:\n",
    "        d = c.replace(b'\\xcc\\x82'.decode(), '') + '5'\n",
    "    elif 'â' in c:\n",
    "        d = c.replace('â', 'a') + '5'\n",
    "    elif 'ê' in c:\n",
    "        d = c.replace('ê', 'e') + '5'\n",
    "    elif 'î' in c:\n",
    "        d = c.replace('î', 'i') + '5'\n",
    "    elif 'ô' in c:\n",
    "        d = c.replace('ô', 'o') + '5'\n",
    "    elif 'û' in c:\n",
    "        d = c.replace('û', 'u') + '5'\n",
    "    elif 'n̂' in c:\n",
    "        d = c.replace('n̂', 'n') + '5'\n",
    "    elif 'm̂' in c:\n",
    "        d = c.replace('m̂', 'm') + '5'\n",
    "    elif 'à' in c:\n",
    "        d = c.replace('à', 'a') + '3'\n",
    "    elif 'è' in c:\n",
    "        d = c.replace('è', 'e') + '3'\n",
    "    elif 'ì' in c:\n",
    "        d = c.replace('ì', 'i') + '3'\n",
    "    elif 'ò' in c:\n",
    "        d = c.replace('ò', 'o') + '3'\n",
    "    elif 'ù' in c:\n",
    "        d = c.replace('ù', 'u') + '3'\n",
    "    elif 'ǹ' in c:\n",
    "        d = c.replace('ǹ', 'n') + '3'\n",
    "    # elif 'm3' in c: non-existent\n",
    "    elif 'á' in c:\n",
    "        d = c.replace('á', 'a') + '2'\n",
    "    elif 'é' in c:\n",
    "        d = c.replace('é', 'e') + '2'\n",
    "    elif 'í' in c:\n",
    "        d = c.replace('í', 'i') + '2'\n",
    "    elif 'ó' in c:\n",
    "        d = c.replace('ó', 'o') + '2'\n",
    "    elif 'ú' in c:\n",
    "        d = c.replace('ú', 'u') + '2'\n",
    "    elif 'ń' in c:\n",
    "        d = c.replace('ń', 'n') + '2'\n",
    "    elif 'ḿ' in c:\n",
    "        d = c.replace('ḿ', 'm') + '2'\n",
    "    elif c.endswith('p') or c.endswith('t') or c.endswith('k') or c.endswith('h'):\n",
    "        d = c + '4'\n",
    "    else:\n",
    "        d = c + '1'\n",
    "    return d"
   ]
  },
  {
   "cell_type": "code",
   "execution_count": 41,
   "id": "2e1983e3-b29a-425f-95f4-0d9139faec1d",
   "metadata": {},
   "outputs": [
    {
     "name": "stdout",
     "output_type": "stream",
     "text": [
      "ê\n",
      "sī\n",
      "á\n",
      "i\n",
      "bô\n",
      "ê\n",
      "lâi\n",
      "ū\n",
      "lâng\n",
      "tī\n"
     ]
    }
   ],
   "source": [
    "for index, row in df_freq[:10].iterrows():\n",
    "    pronunc = row['Pronunciation']\n",
    "    new_pronunc = numberize_tone4charfreq(pronunc)\n",
    "    print(pronunc)\n",
    "    # print(new_pronunc)\n",
    "    # df_freq_updated.loc[index, 'Pronunciation'] = new_pronunc"
   ]
  },
  {
   "cell_type": "code",
   "execution_count": 42,
   "id": "01212322-1d9e-4a8c-bb54-bb4387477a4c",
   "metadata": {},
   "outputs": [
    {
     "data": {
      "text/plain": [
       "'e5'"
      ]
     },
     "execution_count": 42,
     "metadata": {},
     "output_type": "execute_result"
    }
   ],
   "source": [
    "tmp = 'ê'\n",
    "numberize_tone4charfreq(tmp)"
   ]
  },
  {
   "cell_type": "code",
   "execution_count": 44,
   "id": "276807bf-1be5-4cbb-8772-ebd7d0518857",
   "metadata": {},
   "outputs": [
    {
     "data": {
      "text/plain": [
       "b'\\xc4\\xab'"
      ]
     },
     "execution_count": 44,
     "metadata": {},
     "output_type": "execute_result"
    }
   ],
   "source": [
    "'ī'.encode()"
   ]
  },
  {
   "cell_type": "code",
   "execution_count": 241,
   "id": "5cd76040-aa7e-492b-913d-b3dc76a27ab3",
   "metadata": {},
   "outputs": [
    {
     "data": {
      "text/plain": [
       "'e1'"
      ]
     },
     "execution_count": 241,
     "metadata": {},
     "output_type": "execute_result"
    }
   ],
   "source": [
    "'ê'.replace('ê', 'e') + '1'"
   ]
  },
  {
   "cell_type": "code",
   "execution_count": 10,
   "id": "63ad432e-cc4f-48db-a468-864521331c32",
   "metadata": {},
   "outputs": [
    {
     "data": {
      "text/plain": [
       "True"
      ]
     },
     "execution_count": 10,
     "metadata": {},
     "output_type": "execute_result"
    }
   ],
   "source": [
    "'ī' in pronunc"
   ]
  },
  {
   "cell_type": "code",
   "execution_count": 19,
   "id": "b651150b-4e37-4434-8bfb-d694457cb9c1",
   "metadata": {},
   "outputs": [],
   "source": [
    "def justtest(pronunc):\n",
    "    # single syllable only!\n",
    "    c = pronunc  # alias\n",
    "    print(c)\n",
    "    if 'a̍' in c:\n",
    "        d = c.replace('a̍', 'a') + '8'\n",
    "    elif 'ê' in c:\n",
    "        print('herh')\n",
    "        d = c.replace('ê', 'e') + '5'\n",
    "    else:\n",
    "        print('herh2')\n",
    "        d = c + '1'\n",
    "    return d"
   ]
  },
  {
   "cell_type": "code",
   "execution_count": 20,
   "id": "dca3684a-c9a1-483f-82d5-2d88e0b85c64",
   "metadata": {},
   "outputs": [
    {
     "name": "stdout",
     "output_type": "stream",
     "text": [
      "ê\n",
      "herh2\n"
     ]
    },
    {
     "data": {
      "text/plain": [
       "'ê1'"
      ]
     },
     "execution_count": 20,
     "metadata": {},
     "output_type": "execute_result"
    }
   ],
   "source": [
    "justtest(tmp)"
   ]
  },
  {
   "cell_type": "code",
   "execution_count": null,
   "id": "dcd58684-07f2-43a9-be5a-2b46ae9c3c04",
   "metadata": {},
   "outputs": [],
   "source": []
  },
  {
   "cell_type": "code",
   "execution_count": 21,
   "id": "85c447d0-b811-4feb-a092-df78ea2b0952",
   "metadata": {},
   "outputs": [],
   "source": [
    "def testfun(string):\n",
    "    if 'ê' in string:\n",
    "        print('yes')\n",
    "        out = string.replace('ê', 'e') + ' yes'\n",
    "    else:\n",
    "        print('no')\n",
    "        out = string + ' no'\n",
    "    return out"
   ]
  },
  {
   "cell_type": "code",
   "execution_count": 22,
   "id": "9c3ba14a-db60-49b0-b83f-7deb988d1b94",
   "metadata": {},
   "outputs": [
    {
     "name": "stdout",
     "output_type": "stream",
     "text": [
      "ê\n",
      "no\n"
     ]
    },
    {
     "data": {
      "text/plain": [
       "'ê no'"
      ]
     },
     "execution_count": 22,
     "metadata": {},
     "output_type": "execute_result"
    }
   ],
   "source": [
    "print(tmp)\n",
    "# tmp = 'ê'\n",
    "testfun(tmp)"
   ]
  },
  {
   "cell_type": "code",
   "execution_count": 23,
   "id": "ddc9f145-4a01-4fb9-a431-6743e3c7d255",
   "metadata": {},
   "outputs": [
    {
     "name": "stdout",
     "output_type": "stream",
     "text": [
      "no\n"
     ]
    },
    {
     "data": {
      "text/plain": [
       "'ê no'"
      ]
     },
     "execution_count": 23,
     "metadata": {},
     "output_type": "execute_result"
    }
   ],
   "source": [
    "testfun('ê')"
   ]
  },
  {
   "cell_type": "code",
   "execution_count": null,
   "id": "a88c40f8-e832-44d1-b991-409a7c70090c",
   "metadata": {},
   "outputs": [],
   "source": []
  },
  {
   "cell_type": "code",
   "execution_count": null,
   "id": "e681a083-a70d-45cd-bef2-e51624a5f3df",
   "metadata": {},
   "outputs": [],
   "source": []
  },
  {
   "cell_type": "code",
   "execution_count": null,
   "id": "8a0178b7-b9dd-4085-93e1-3d5ee7daada2",
   "metadata": {},
   "outputs": [],
   "source": []
  },
  {
   "cell_type": "code",
   "execution_count": null,
   "id": "cc394506-4601-4fa4-accc-c7fb24b6354c",
   "metadata": {},
   "outputs": [],
   "source": []
  },
  {
   "cell_type": "code",
   "execution_count": null,
   "id": "ec9f51e0-b05e-4711-b74a-a0995ab9a85b",
   "metadata": {},
   "outputs": [],
   "source": []
  },
  {
   "cell_type": "code",
   "execution_count": null,
   "id": "e5f15a72-01f8-497b-8c4c-4957b3463ce0",
   "metadata": {},
   "outputs": [],
   "source": []
  },
  {
   "cell_type": "code",
   "execution_count": null,
   "id": "d97f8e4e-40c9-4e43-b78f-eba0fc0db85f",
   "metadata": {},
   "outputs": [],
   "source": []
  },
  {
   "cell_type": "code",
   "execution_count": null,
   "id": "4f5156d3-332e-4fe1-86a3-73931d370441",
   "metadata": {},
   "outputs": [],
   "source": []
  },
  {
   "cell_type": "code",
   "execution_count": 238,
   "id": "a26bb8f0-51c4-4933-8998-e735ad8752e7",
   "metadata": {},
   "outputs": [
    {
     "data": {
      "text/plain": [
       "'e1'"
      ]
     },
     "execution_count": 238,
     "metadata": {},
     "output_type": "execute_result"
    }
   ],
   "source": [
    "if 'ê' in tmp:\n",
    "    d = tmp.replace('ê', 'e') + '1'\n",
    "    \n",
    "d"
   ]
  },
  {
   "cell_type": "code",
   "execution_count": 210,
   "id": "879171c3-34d4-41e4-8406-109a7fbb5bb6",
   "metadata": {},
   "outputs": [
    {
     "data": {
      "text/html": [
       "<div>\n",
       "<style scoped>\n",
       "    .dataframe tbody tr th:only-of-type {\n",
       "        vertical-align: middle;\n",
       "    }\n",
       "\n",
       "    .dataframe tbody tr th {\n",
       "        vertical-align: top;\n",
       "    }\n",
       "\n",
       "    .dataframe thead th {\n",
       "        text-align: right;\n",
       "    }\n",
       "</style>\n",
       "<table border=\"1\" class=\"dataframe\">\n",
       "  <thead>\n",
       "    <tr style=\"text-align: right;\">\n",
       "      <th></th>\n",
       "      <th>No.</th>\n",
       "      <th>Name</th>\n",
       "      <th>Pronunciation</th>\n",
       "      <th>New_Freq</th>\n",
       "    </tr>\n",
       "  </thead>\n",
       "  <tbody>\n",
       "    <tr>\n",
       "      <th>0</th>\n",
       "      <td>120</td>\n",
       "      <td>的</td>\n",
       "      <td>ê1</td>\n",
       "      <td>184693</td>\n",
       "    </tr>\n",
       "    <tr>\n",
       "      <th>1</th>\n",
       "      <td>247</td>\n",
       "      <td>是</td>\n",
       "      <td>sī1</td>\n",
       "      <td>103109</td>\n",
       "    </tr>\n",
       "    <tr>\n",
       "      <th>2</th>\n",
       "      <td>1</td>\n",
       "      <td>仔</td>\n",
       "      <td>á1</td>\n",
       "      <td>90696</td>\n",
       "    </tr>\n",
       "    <tr>\n",
       "      <th>3</th>\n",
       "      <td>1278</td>\n",
       "      <td>伊</td>\n",
       "      <td>i1</td>\n",
       "      <td>63255</td>\n",
       "    </tr>\n",
       "    <tr>\n",
       "      <th>4</th>\n",
       "      <td>7</td>\n",
       "      <td>無</td>\n",
       "      <td>bô1</td>\n",
       "      <td>63119</td>\n",
       "    </tr>\n",
       "    <tr>\n",
       "      <th>...</th>\n",
       "      <td>...</td>\n",
       "      <td>...</td>\n",
       "      <td>...</td>\n",
       "      <td>...</td>\n",
       "    </tr>\n",
       "    <tr>\n",
       "      <th>5185</th>\n",
       "      <td>3939</td>\n",
       "      <td>疤</td>\n",
       "      <td>pa1</td>\n",
       "      <td>50</td>\n",
       "    </tr>\n",
       "    <tr>\n",
       "      <th>5186</th>\n",
       "      <td>3940</td>\n",
       "      <td>疥</td>\n",
       "      <td>kè1</td>\n",
       "      <td>50</td>\n",
       "    </tr>\n",
       "    <tr>\n",
       "      <th>5187</th>\n",
       "      <td>3941</td>\n",
       "      <td>疧</td>\n",
       "      <td>khî1</td>\n",
       "      <td>50</td>\n",
       "    </tr>\n",
       "    <tr>\n",
       "      <th>5188</th>\n",
       "      <td>4193</td>\n",
       "      <td>荷</td>\n",
       "      <td>huê1</td>\n",
       "      <td>50</td>\n",
       "    </tr>\n",
       "    <tr>\n",
       "      <th>5189</th>\n",
       "      <td>4818</td>\n",
       "      <td>黜</td>\n",
       "      <td>thut4</td>\n",
       "      <td>50</td>\n",
       "    </tr>\n",
       "  </tbody>\n",
       "</table>\n",
       "<p>5190 rows × 4 columns</p>\n",
       "</div>"
      ],
      "text/plain": [
       "       No. Name Pronunciation  New_Freq\n",
       "0      120    的            ê1    184693\n",
       "1      247    是           sī1    103109\n",
       "2        1    仔            á1     90696\n",
       "3     1278    伊            i1     63255\n",
       "4        7    無           bô1     63119\n",
       "...    ...  ...           ...       ...\n",
       "5185  3939    疤           pa1        50\n",
       "5186  3940    疥           kè1        50\n",
       "5187  3941    疧          khî1        50\n",
       "5188  4193    荷          huê1        50\n",
       "5189  4818    黜         thut4        50\n",
       "\n",
       "[5190 rows x 4 columns]"
      ]
     },
     "execution_count": 210,
     "metadata": {},
     "output_type": "execute_result"
    }
   ],
   "source": [
    "df_freq_updated"
   ]
  },
  {
   "cell_type": "code",
   "execution_count": null,
   "id": "68d14b70-8005-4cd5-a5e2-f97321da40d7",
   "metadata": {},
   "outputs": [],
   "source": [
    "with open(dict_raw_file) as f, open(dict_target_file, 'w') as g:\n",
    "\n",
    "    # Write the same headers in g\n",
    "    for line in f:\n",
    "        g.write(line)\n",
    "        if line == '...\\n':\n",
    "            break\n",
    "\n",
    "    # Dictionary\n",
    "    for line in f:\n",
    "        g.write(line.replace(' ', \"'\"))"
   ]
  },
  {
   "cell_type": "code",
   "execution_count": null,
   "id": "9a596d19-2ce8-4b0a-8632-3579ee571fae",
   "metadata": {},
   "outputs": [],
   "source": []
  },
  {
   "cell_type": "code",
   "execution_count": null,
   "id": "1e8d866f-a4af-477c-9826-6d30416fce3a",
   "metadata": {},
   "outputs": [],
   "source": []
  },
  {
   "cell_type": "code",
   "execution_count": null,
   "id": "cf0f366b-a990-4f39-ab05-607c92a08d5c",
   "metadata": {},
   "outputs": [],
   "source": []
  },
  {
   "cell_type": "code",
   "execution_count": null,
   "id": "6ff28662-81b5-4584-ac40-cc99cb91b38f",
   "metadata": {},
   "outputs": [],
   "source": []
  },
  {
   "cell_type": "code",
   "execution_count": null,
   "id": "d636a9d6-8f13-42c7-93bd-e5af08c634e5",
   "metadata": {},
   "outputs": [],
   "source": []
  },
  {
   "cell_type": "code",
   "execution_count": null,
   "id": "afd05a9f-c115-4bc8-b21b-0579033265df",
   "metadata": {},
   "outputs": [],
   "source": []
  },
  {
   "cell_type": "code",
   "execution_count": null,
   "id": "706f2594-cef3-44cd-9b49-ef7f7b283124",
   "metadata": {},
   "outputs": [],
   "source": []
  },
  {
   "cell_type": "code",
   "execution_count": null,
   "id": "3ad61075-1450-4429-979d-ace78da9d734",
   "metadata": {},
   "outputs": [],
   "source": []
  },
  {
   "cell_type": "code",
   "execution_count": null,
   "id": "0041b69a-f3cc-412d-9ab9-648fd45601cc",
   "metadata": {},
   "outputs": [],
   "source": []
  },
  {
   "cell_type": "code",
   "execution_count": null,
   "id": "496faeff-5bc5-4d9e-9e01-1072f2e930f1",
   "metadata": {},
   "outputs": [],
   "source": []
  },
  {
   "cell_type": "code",
   "execution_count": null,
   "id": "501d80dc-f640-4098-8617-2b13fd922d03",
   "metadata": {},
   "outputs": [],
   "source": []
  },
  {
   "cell_type": "code",
   "execution_count": null,
   "id": "5cfa51ae-eaa2-4d84-83e7-865f73b6bc31",
   "metadata": {},
   "outputs": [],
   "source": []
  },
  {
   "cell_type": "code",
   "execution_count": null,
   "id": "b5425c06-18e8-4bd6-920b-e587d3939e71",
   "metadata": {},
   "outputs": [],
   "source": []
  },
  {
   "cell_type": "code",
   "execution_count": null,
   "id": "99a351e6-e094-4d37-8db7-129d9f943d36",
   "metadata": {},
   "outputs": [],
   "source": []
  },
  {
   "cell_type": "code",
   "execution_count": null,
   "id": "db05ba01-ca02-413f-8786-ee99eb6c20fc",
   "metadata": {},
   "outputs": [],
   "source": []
  },
  {
   "cell_type": "code",
   "execution_count": null,
   "id": "d56ee65f-981f-4893-890d-a9887576073d",
   "metadata": {},
   "outputs": [],
   "source": []
  },
  {
   "cell_type": "code",
   "execution_count": null,
   "id": "c8816b43-05c2-43b9-b093-b31e82ef5790",
   "metadata": {},
   "outputs": [],
   "source": []
  },
  {
   "cell_type": "code",
   "execution_count": null,
   "id": "588f595b-59b8-41c9-9302-edcb17f3f3c6",
   "metadata": {},
   "outputs": [],
   "source": []
  },
  {
   "cell_type": "code",
   "execution_count": null,
   "id": "bb62f55c-7eaa-48e9-a38d-94ee51d0910b",
   "metadata": {},
   "outputs": [],
   "source": []
  }
 ],
 "metadata": {
  "kernelspec": {
   "display_name": "Python [conda env:.conda-jme]",
   "language": "python",
   "name": "conda-env-.conda-jme-py"
  },
  "language_info": {
   "codemirror_mode": {
    "name": "ipython",
    "version": 3
   },
   "file_extension": ".py",
   "mimetype": "text/x-python",
   "name": "python",
   "nbconvert_exporter": "python",
   "pygments_lexer": "ipython3",
   "version": "3.8.10"
  }
 },
 "nbformat": 4,
 "nbformat_minor": 5
}
